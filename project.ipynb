{
 "cells": [
  {
   "cell_type": "code",
   "execution_count": 1,
   "id": "811f88ed",
   "metadata": {},
   "outputs": [
    {
     "data": {
      "text/html": [
       "<div>\n",
       "<style scoped>\n",
       "    .dataframe tbody tr th:only-of-type {\n",
       "        vertical-align: middle;\n",
       "    }\n",
       "\n",
       "    .dataframe tbody tr th {\n",
       "        vertical-align: top;\n",
       "    }\n",
       "\n",
       "    .dataframe thead th {\n",
       "        text-align: right;\n",
       "    }\n",
       "</style>\n",
       "<table border=\"1\" class=\"dataframe\">\n",
       "  <thead>\n",
       "    <tr style=\"text-align: right;\">\n",
       "      <th></th>\n",
       "      <th>Size</th>\n",
       "      <th>Weight</th>\n",
       "      <th>Intensity</th>\n",
       "      <th>Value</th>\n",
       "    </tr>\n",
       "    <tr>\n",
       "      <th>Sample</th>\n",
       "      <th></th>\n",
       "      <th></th>\n",
       "      <th></th>\n",
       "      <th></th>\n",
       "    </tr>\n",
       "  </thead>\n",
       "  <tbody>\n",
       "    <tr>\n",
       "      <th>1</th>\n",
       "      <td>25</td>\n",
       "      <td>249</td>\n",
       "      <td>43</td>\n",
       "      <td>80</td>\n",
       "    </tr>\n",
       "    <tr>\n",
       "      <th>2</th>\n",
       "      <td>32</td>\n",
       "      <td>320</td>\n",
       "      <td>82</td>\n",
       "      <td>81</td>\n",
       "    </tr>\n",
       "    <tr>\n",
       "      <th>3</th>\n",
       "      <td>10</td>\n",
       "      <td>102</td>\n",
       "      <td>61</td>\n",
       "      <td>79</td>\n",
       "    </tr>\n",
       "    <tr>\n",
       "      <th>4</th>\n",
       "      <td>64</td>\n",
       "      <td>650</td>\n",
       "      <td>69</td>\n",
       "      <td>80</td>\n",
       "    </tr>\n",
       "    <tr>\n",
       "      <th>5</th>\n",
       "      <td>88</td>\n",
       "      <td>873</td>\n",
       "      <td>73</td>\n",
       "      <td>82</td>\n",
       "    </tr>\n",
       "    <tr>\n",
       "      <th>6</th>\n",
       "      <td>12</td>\n",
       "      <td>121</td>\n",
       "      <td>48</td>\n",
       "      <td>78</td>\n",
       "    </tr>\n",
       "    <tr>\n",
       "      <th>7</th>\n",
       "      <td>66</td>\n",
       "      <td>651</td>\n",
       "      <td>42</td>\n",
       "      <td>79</td>\n",
       "    </tr>\n",
       "    <tr>\n",
       "      <th>8</th>\n",
       "      <td>37</td>\n",
       "      <td>380</td>\n",
       "      <td>27</td>\n",
       "      <td>80</td>\n",
       "    </tr>\n",
       "    <tr>\n",
       "      <th>9</th>\n",
       "      <td>54</td>\n",
       "      <td>549</td>\n",
       "      <td>92</td>\n",
       "      <td>81</td>\n",
       "    </tr>\n",
       "    <tr>\n",
       "      <th>10</th>\n",
       "      <td>77</td>\n",
       "      <td>764</td>\n",
       "      <td>55</td>\n",
       "      <td>79</td>\n",
       "    </tr>\n",
       "  </tbody>\n",
       "</table>\n",
       "</div>"
      ],
      "text/plain": [
       "        Size  Weight  Intensity  Value\n",
       "Sample                                \n",
       "1         25     249         43     80\n",
       "2         32     320         82     81\n",
       "3         10     102         61     79\n",
       "4         64     650         69     80\n",
       "5         88     873         73     82\n",
       "6         12     121         48     78\n",
       "7         66     651         42     79\n",
       "8         37     380         27     80\n",
       "9         54     549         92     81\n",
       "10        77     764         55     79"
      ]
     },
     "execution_count": 1,
     "metadata": {},
     "output_type": "execute_result"
    }
   ],
   "source": [
    "import numpy as np\n",
    "import pandas as pd\n",
    "\n",
    "from sklearn.decomposition import PCA\n",
    "from sklearn import preprocessing\n",
    "\n",
    "X_df = pd.read_csv('objects.csv', index_col='Sample')\n",
    "X_df.head(10)"
   ]
  },
  {
   "cell_type": "code",
   "execution_count": 2,
   "id": "52dd0e6b",
   "metadata": {},
   "outputs": [
    {
     "data": {
      "text/plain": [
       "array([0.995, 0.005, 0.   ])"
      ]
     },
     "execution_count": 2,
     "metadata": {},
     "output_type": "execute_result"
    }
   ],
   "source": [
    "n_comp = 3\n",
    "pca = PCA(n_components=n_comp).fit(X_df)\n",
    "X_pca = pca.transform(X_df)\n",
    "np.round(pca.explained_variance_ratio_, 3)"
   ]
  },
  {
   "cell_type": "code",
   "execution_count": 3,
   "id": "efd7422a",
   "metadata": {},
   "outputs": [
    {
     "data": {
      "text/html": [
       "<div>\n",
       "<style scoped>\n",
       "    .dataframe tbody tr th:only-of-type {\n",
       "        vertical-align: middle;\n",
       "    }\n",
       "\n",
       "    .dataframe tbody tr th {\n",
       "        vertical-align: top;\n",
       "    }\n",
       "\n",
       "    .dataframe thead th {\n",
       "        text-align: right;\n",
       "    }\n",
       "</style>\n",
       "<table border=\"1\" class=\"dataframe\">\n",
       "  <thead>\n",
       "    <tr style=\"text-align: right;\">\n",
       "      <th></th>\n",
       "      <th>Size</th>\n",
       "      <th>Weight</th>\n",
       "      <th>Intensity</th>\n",
       "      <th>Value</th>\n",
       "    </tr>\n",
       "  </thead>\n",
       "  <tbody>\n",
       "    <tr>\n",
       "      <th>PC1</th>\n",
       "      <td>0.100301</td>\n",
       "      <td>0.994791</td>\n",
       "      <td>0.018074</td>\n",
       "      <td>0.002005</td>\n",
       "    </tr>\n",
       "    <tr>\n",
       "      <th>PC2</th>\n",
       "      <td>-0.009425</td>\n",
       "      <td>-0.017267</td>\n",
       "      <td>0.999364</td>\n",
       "      <td>0.029738</td>\n",
       "    </tr>\n",
       "    <tr>\n",
       "      <th>PC3</th>\n",
       "      <td>-0.257680</td>\n",
       "      <td>0.024594</td>\n",
       "      <td>-0.030733</td>\n",
       "      <td>0.965428</td>\n",
       "    </tr>\n",
       "  </tbody>\n",
       "</table>\n",
       "</div>"
      ],
      "text/plain": [
       "         Size    Weight  Intensity     Value\n",
       "PC1  0.100301  0.994791   0.018074  0.002005\n",
       "PC2 -0.009425 -0.017267   0.999364  0.029738\n",
       "PC3 -0.257680  0.024594  -0.030733  0.965428"
      ]
     },
     "execution_count": 3,
     "metadata": {},
     "output_type": "execute_result"
    }
   ],
   "source": [
    "load_df = pd.DataFrame(pca.components_, index=[f'PC{i}' for i in range(1, n_comp+1)], columns=X_df.columns)\n",
    "load_df"
   ]
  },
  {
   "cell_type": "markdown",
   "id": "686e4300",
   "metadata": {},
   "source": [
    "### Min-Max Scaling"
   ]
  },
  {
   "cell_type": "code",
   "execution_count": 4,
   "id": "4f192d66",
   "metadata": {},
   "outputs": [
    {
     "data": {
      "text/plain": [
       "array([[0.19230769, 0.19066148, 0.24615385, 0.5       ],\n",
       "       [0.28205128, 0.28274968, 0.84615385, 0.75      ],\n",
       "       [0.        , 0.        , 0.52307692, 0.25      ],\n",
       "       [0.69230769, 0.71076524, 0.64615385, 0.5       ],\n",
       "       [1.        , 1.        , 0.70769231, 1.        ],\n",
       "       [0.02564103, 0.02464332, 0.32307692, 0.        ],\n",
       "       [0.71794872, 0.71206226, 0.23076923, 0.25      ],\n",
       "       [0.34615385, 0.36057069, 0.        , 0.5       ],\n",
       "       [0.56410256, 0.57976654, 1.        , 0.75      ],\n",
       "       [0.85897436, 0.85862516, 0.43076923, 0.25      ]])"
      ]
     },
     "execution_count": 4,
     "metadata": {},
     "output_type": "execute_result"
    }
   ],
   "source": [
    "min_max_scaler = preprocessing.MinMaxScaler()\n",
    "X_df_minmax = min_max_scaler.fit_transform(X_df)\n",
    "X_df_minmax"
   ]
  },
  {
   "cell_type": "code",
   "execution_count": 5,
   "id": "2e64cc03",
   "metadata": {},
   "outputs": [
    {
     "data": {
      "text/plain": [
       "array([0.663, 0.254, 0.083])"
      ]
     },
     "execution_count": 5,
     "metadata": {},
     "output_type": "execute_result"
    }
   ],
   "source": [
    "n_comp = 3\n",
    "pca = PCA(n_components=n_comp).fit(X_df_minmax)\n",
    "X_pca = pca.transform(X_df_minmax)\n",
    "np.round(pca.explained_variance_ratio_, 3)"
   ]
  },
  {
   "cell_type": "markdown",
   "id": "6915aebf",
   "metadata": {},
   "source": [
    "Two (2) principal components are required to achieve at least 90% variance coverage. These are PC1 and PC2 which covers ~92%."
   ]
  },
  {
   "cell_type": "code",
   "execution_count": 6,
   "id": "a1e063fb",
   "metadata": {},
   "outputs": [
    {
     "data": {
      "text/html": [
       "<div>\n",
       "<style scoped>\n",
       "    .dataframe tbody tr th:only-of-type {\n",
       "        vertical-align: middle;\n",
       "    }\n",
       "\n",
       "    .dataframe tbody tr th {\n",
       "        vertical-align: top;\n",
       "    }\n",
       "\n",
       "    .dataframe thead th {\n",
       "        text-align: right;\n",
       "    }\n",
       "</style>\n",
       "<table border=\"1\" class=\"dataframe\">\n",
       "  <thead>\n",
       "    <tr style=\"text-align: right;\">\n",
       "      <th></th>\n",
       "      <th>Size</th>\n",
       "      <th>Weight</th>\n",
       "      <th>Intensity</th>\n",
       "      <th>Value</th>\n",
       "    </tr>\n",
       "  </thead>\n",
       "  <tbody>\n",
       "    <tr>\n",
       "      <th>PC1</th>\n",
       "      <td>0.622737</td>\n",
       "      <td>0.626086</td>\n",
       "      <td>0.277921</td>\n",
       "      <td>0.378119</td>\n",
       "    </tr>\n",
       "    <tr>\n",
       "      <th>PC2</th>\n",
       "      <td>-0.319363</td>\n",
       "      <td>-0.313407</td>\n",
       "      <td>0.741583</td>\n",
       "      <td>0.499838</td>\n",
       "    </tr>\n",
       "    <tr>\n",
       "      <th>PC3</th>\n",
       "      <td>-0.102031</td>\n",
       "      <td>-0.098070</td>\n",
       "      <td>-0.610583</td>\n",
       "      <td>0.779205</td>\n",
       "    </tr>\n",
       "  </tbody>\n",
       "</table>\n",
       "</div>"
      ],
      "text/plain": [
       "         Size    Weight  Intensity     Value\n",
       "PC1  0.622737  0.626086   0.277921  0.378119\n",
       "PC2 -0.319363 -0.313407   0.741583  0.499838\n",
       "PC3 -0.102031 -0.098070  -0.610583  0.779205"
      ]
     },
     "execution_count": 6,
     "metadata": {},
     "output_type": "execute_result"
    }
   ],
   "source": [
    "load_df = pd.DataFrame(pca.components_, index=[f'PC{i}' for i in range(1, n_comp+1)], columns=X_df.columns)\n",
    "load_df"
   ]
  },
  {
   "cell_type": "markdown",
   "id": "49dbcb42",
   "metadata": {},
   "source": [
    "The original features that contribute most to the variance are: weight in PC1 and Intensity in PC2."
   ]
  },
  {
   "cell_type": "markdown",
   "id": "5e899a95",
   "metadata": {},
   "source": [
    "### Standard Scaling"
   ]
  },
  {
   "cell_type": "code",
   "execution_count": 7,
   "id": "c72e4756",
   "metadata": {},
   "outputs": [
    {
     "data": {
      "text/plain": [
       "array([[-0.83182884, -0.84637182, -0.85103004,  0.08804509],\n",
       "       [-0.56100085, -0.56932065,  1.19774598,  0.968496  ],\n",
       "       [-1.41217455, -1.41998482,  0.09455889, -0.79240582],\n",
       "       [ 0.67706999,  0.71838199,  0.51482064,  0.08804509],\n",
       "       [ 1.60562312,  1.5885568 ,  0.72495151,  1.8489469 ],\n",
       "       [-1.33479512, -1.34584436, -0.58836645, -1.67285672],\n",
       "       [ 0.75444942,  0.72228412, -0.90356276, -0.79240582],\n",
       "       [-0.36755228, -0.3351929 , -1.69155353,  0.08804509],\n",
       "       [ 0.29017285,  0.32426694,  1.72307316,  0.968496  ],\n",
       "       [ 1.18003627,  1.16322472, -0.22063742, -0.79240582]])"
      ]
     },
     "execution_count": 7,
     "metadata": {},
     "output_type": "execute_result"
    }
   ],
   "source": [
    "std_scaler = preprocessing.StandardScaler().fit(X_df)\n",
    "X_df_std = std_scaler.transform(X_df)\n",
    "X_df_std"
   ]
  },
  {
   "cell_type": "code",
   "execution_count": 8,
   "id": "c472d83d",
   "metadata": {},
   "outputs": [
    {
     "data": {
      "text/plain": [
       "array([0.632, 0.272, 0.096])"
      ]
     },
     "execution_count": 8,
     "metadata": {},
     "output_type": "execute_result"
    }
   ],
   "source": [
    "n_comp = 3\n",
    "pca = PCA(n_components=n_comp).fit(X_df_std)\n",
    "X_pca = pca.transform(X_df_std)\n",
    "np.round(pca.explained_variance_ratio_, 3)"
   ]
  },
  {
   "cell_type": "code",
   "execution_count": 9,
   "id": "226b12bd",
   "metadata": {},
   "outputs": [
    {
     "data": {
      "text/html": [
       "<div>\n",
       "<style scoped>\n",
       "    .dataframe tbody tr th:only-of-type {\n",
       "        vertical-align: middle;\n",
       "    }\n",
       "\n",
       "    .dataframe tbody tr th {\n",
       "        vertical-align: top;\n",
       "    }\n",
       "\n",
       "    .dataframe thead th {\n",
       "        text-align: right;\n",
       "    }\n",
       "</style>\n",
       "<table border=\"1\" class=\"dataframe\">\n",
       "  <thead>\n",
       "    <tr style=\"text-align: right;\">\n",
       "      <th></th>\n",
       "      <th>Size</th>\n",
       "      <th>Weight</th>\n",
       "      <th>Intensity</th>\n",
       "      <th>Value</th>\n",
       "    </tr>\n",
       "  </thead>\n",
       "  <tbody>\n",
       "    <tr>\n",
       "      <th>PC1</th>\n",
       "      <td>0.568171</td>\n",
       "      <td>0.570098</td>\n",
       "      <td>0.358882</td>\n",
       "      <td>0.472625</td>\n",
       "    </tr>\n",
       "    <tr>\n",
       "      <th>PC2</th>\n",
       "      <td>-0.405053</td>\n",
       "      <td>-0.399104</td>\n",
       "      <td>0.694283</td>\n",
       "      <td>0.441158</td>\n",
       "    </tr>\n",
       "    <tr>\n",
       "      <th>PC3</th>\n",
       "      <td>-0.121866</td>\n",
       "      <td>-0.118280</td>\n",
       "      <td>-0.623837</td>\n",
       "      <td>0.762880</td>\n",
       "    </tr>\n",
       "  </tbody>\n",
       "</table>\n",
       "</div>"
      ],
      "text/plain": [
       "         Size    Weight  Intensity     Value\n",
       "PC1  0.568171  0.570098   0.358882  0.472625\n",
       "PC2 -0.405053 -0.399104   0.694283  0.441158\n",
       "PC3 -0.121866 -0.118280  -0.623837  0.762880"
      ]
     },
     "execution_count": 9,
     "metadata": {},
     "output_type": "execute_result"
    }
   ],
   "source": [
    "load_df = pd.DataFrame(pca.components_, index=[f'PC{i}' for i in range(1, n_comp+1)], columns=X_df.columns)\n",
    "load_df"
   ]
  },
  {
   "cell_type": "markdown",
   "id": "88bfd4a7",
   "metadata": {},
   "source": [
    "### Observations\n",
    "\n",
    "1. Two (2) principal components are required to achieve at least 90% variance coverage. These are PC1 and PC2 which covers ~92%. And the original features that contribute most to the variance are: weight in PC1 and Intensity in PC2.\n",
    "2. Size and weight features are similar/proportional, but PCA \"alone\" shows weight contributing to the most variance. Anda after performing scaling (min-max and standard) it shows similar variance for both size and weight features.\n",
    "3. The intensity and value features contribute the least variance on PCA-only run. But after normalization it shows significant contribution to the variance."
   ]
  }
 ],
 "metadata": {
  "kernelspec": {
   "display_name": "Python 3 (ipykernel)",
   "language": "python",
   "name": "python3"
  },
  "language_info": {
   "codemirror_mode": {
    "name": "ipython",
    "version": 3
   },
   "file_extension": ".py",
   "mimetype": "text/x-python",
   "name": "python",
   "nbconvert_exporter": "python",
   "pygments_lexer": "ipython3",
   "version": "3.9.16"
  }
 },
 "nbformat": 4,
 "nbformat_minor": 5
}
